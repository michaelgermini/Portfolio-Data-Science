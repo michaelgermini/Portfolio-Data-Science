{
  "cells": [
    {
      "cell_type": "markdown",
      "metadata": {},
      "source": [
        "# House price prediction (Kaggle House Prices)\n",
        "Goal: estimate a house sale price given its features.\n",
        "\n",
        "Instructions:\n",
        "- Download the Kaggle dataset and place `train.csv` and `test.csv` under `ml_immo/data/house_prices/`.\n",
        "- Run the cells below to train and evaluate models (RMSE, R²).\n"
      ]
    },
    {
      "cell_type": "code",
      "execution_count": null,
      "metadata": {},
      "outputs": [],
      "source": [
        "import pandas as pd\n",
        "import numpy as np\n",
        "from sklearn.model_selection import cross_val_score, KFold\n",
        "from sklearn.compose import ColumnTransformer\n",
        "from sklearn.pipeline import Pipeline\n",
        "from sklearn.preprocessing import OneHotEncoder, StandardScaler\n",
        "from sklearn.impute import SimpleImputer\n",
        "from sklearn.linear_model import Ridge, Lasso\n",
        "from sklearn.metrics import mean_squared_error, r2_score\n",
        "from sklearn.ensemble import GradientBoostingRegressor\n",
        "\n",
        "# Files (adjust paths if different)\n",
        "train_csv = '../../data/house_prices/train.csv'\n",
        "test_csv = '../../data/house_prices/test.csv'\n",
        "\n",
        "# Load\n",
        "try:\n",
        "    df = pd.read_csv(train_csv)\n",
        "except FileNotFoundError:\n",
        "    raise SystemExit('Put train.csv under ml_immo/data/house_prices/')\n",
        "\n",
        "target = 'SalePrice'\n",
        "y = df[target]\n",
        "X = df.drop(columns=[target])\n",
        "\n",
        "numeric_cols = X.select_dtypes(include=['int64', 'float64']).columns.tolist()\n",
        "categorical_cols = X.select_dtypes(include=['object']).columns.tolist()\n",
        "\n",
        "preprocess = ColumnTransformer([\n",
        "    ('num', Pipeline([('imputer', SimpleImputer(strategy='median')), ('scaler', StandardScaler())]), numeric_cols),\n",
        "    ('cat', Pipeline([('imputer', SimpleImputer(strategy='most_frequent')), ('oh', OneHotEncoder(handle_unknown='ignore'))]), categorical_cols)\n",
        "])\n",
        "\n",
        "models = {\n",
        "    'Ridge': Ridge(alpha=10.0),\n",
        "    'Lasso': Lasso(alpha=0.0005, max_iter=20000),\n",
        "    'GBR'  : GradientBoostingRegressor(random_state=42)\n",
        "}\n",
        "\n",
        "cv = KFold(n_splits=5, shuffle=True, random_state=42)\n",
        "rows = []\n",
        "for name, model in models.items():\n",
        "    pipe = Pipeline([('prep', preprocess), ('model', model)])\n",
        "    rmse = (-cross_val_score(pipe, X, y, scoring='neg_root_mean_squared_error', cv=cv)).mean()\n",
        "    r2 = cross_val_score(pipe, X, y, scoring='r2', cv=cv).mean()\n",
        "    rows.append((name, rmse, r2))\n",
        "\n",
        "results_df = pd.DataFrame(rows, columns=['model', 'rmse', 'r2']).sort_values('rmse')\n",
        "results_df\n"
      ]
    }
  ],
  "metadata": {
    "language_info": {
      "name": "python"
    }
  },
  "nbformat": 4,
  "nbformat_minor": 2
}
