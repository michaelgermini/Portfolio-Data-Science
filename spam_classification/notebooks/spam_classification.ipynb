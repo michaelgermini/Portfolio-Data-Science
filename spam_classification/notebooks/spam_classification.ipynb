{
  "cells": [
    {
      "cell_type": "markdown",
      "metadata": {},
      "source": [
        "# Classification Spam vs Ham\n",
        "Dataset: Enron emails ou Kaggle spam dataset.\n",
        "\n",
        "Instructions:\n",
        "- Préparez un CSV `spam.csv` dans `spam_classification/data/` avec colonnes `text`, `label` (`spam`/`ham`).\n",
        "- Exécutez le pipeline ci-dessous (Logistic Regression / Naive Bayes) et reportez Precision, Recall, F1.\n"
      ]
    },
    {
      "cell_type": "code",
      "execution_count": null,
      "metadata": {},
      "outputs": [],
      "source": [
        "import pandas as pd\n",
        "import numpy as np\n",
        "from sklearn.model_selection import train_test_split\n",
        "from sklearn.feature_extraction.text import TfidfVectorizer\n",
        "from sklearn.metrics import classification_report\n",
        "from sklearn.pipeline import Pipeline\n",
        "from sklearn.linear_model import LogisticRegression\n",
        "from sklearn.naive_bayes import MultinomialNB\n",
        "\n",
        "# Fichier de données\n",
        "csv_path = '../data/spam.csv'\n",
        "\n",
        "df = pd.read_csv(csv_path)\n",
        "assert {'text','label'}.issubset(df.columns), 'Le CSV doit contenir les colonnes text et label'\n",
        "\n",
        "X_train, X_test, y_train, y_test = train_test_split(df['text'], df['label'], test_size=0.2, random_state=42, stratify=df['label'])\n",
        "\n",
        "pipelines = {\n",
        "    'LogReg': Pipeline([\n",
        "        ('tfidf', TfidfVectorizer(min_df=3, ngram_range=(1,2))),\n",
        "        ('clf', LogisticRegression(max_iter=200))\n",
        "    ]),\n",
        "    'NaiveBayes': Pipeline([\n",
        "        ('tfidf', TfidfVectorizer(min_df=3, ngram_range=(1,2))),\n",
        "        ('clf', MultinomialNB())\n",
        "    ])\n",
        "}\n",
        "\n",
        "reports = {}\n",
        "for name, pipe in pipelines.items():\n",
        "    pipe.fit(X_train, y_train)\n",
        "    y_pred = pipe.predict(X_test)\n",
        "    reports[name] = classification_report(y_test, y_pred, output_dict=False)\n",
        "\n",
        "print('\\n\\n'.join([f'== {k} ==\\n{v}' for k,v in reports.items()]))\n"
      ]
    }
  ],
  "metadata": {
    "language_info": {
      "name": "python"
    }
  },
  "nbformat": 4,
  "nbformat_minor": 2
}
