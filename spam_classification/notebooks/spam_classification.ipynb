{
  "cells": [
    {
      "cell_type": "markdown",
      "metadata": {},
      "source": [
        "# Spam vs Ham classification\n",
        "Dataset: Enron emails or Kaggle spam dataset.\n",
        "\n",
        "Instructions:\n",
        "- Prepare a `spam.csv` under `spam_classification/data/` with columns `text`, `label` (`spam`/`ham`).\n",
        "- Run the pipeline below (Logistic Regression / Naive Bayes) and report Precision, Recall, F1.\n"
      ]
    },
    {
      "cell_type": "code",
      "execution_count": null,
      "metadata": {},
      "outputs": [],
      "source": [
        "import pandas as pd\n",
        "import numpy as np\n",
        "from sklearn.model_selection import train_test_split\n",
        "from sklearn.feature_extraction.text import TfidfVectorizer\n",
        "from sklearn.metrics import classification_report\n",
        "from sklearn.pipeline import Pipeline\n",
        "from sklearn.linear_model import LogisticRegression\n",
        "from sklearn.naive_bayes import MultinomialNB\n",
        "\n",
        "# Data file\n",
        "csv_path = '../data/spam.csv'\n",
        "\n",
        "df = pd.read_csv(csv_path)\n",
        "assert {'text','label'}.issubset(df.columns), 'CSV must contain columns text and label'\n",
        "\n",
        "X_train, X_test, y_train, y_test = train_test_split(df['text'], df['label'], test_size=0.2, random_state=42, stratify=df['label'])\n",
        "\n",
        "pipelines = {\n",
        "    'LogReg': Pipeline([\n",
        "        ('tfidf', TfidfVectorizer(min_df=3, ngram_range=(1,2))),\n",
        "        ('clf', LogisticRegression(max_iter=200))\n",
        "    ]),\n",
        "    'NaiveBayes': Pipeline([\n",
        "        ('tfidf', TfidfVectorizer(min_df=3, ngram_range=(1,2))),\n",
        "        ('clf', MultinomialNB())\n",
        "    ])\n",
        "}\n",
        "\n",
        "reports = {}\n",
        "for name, pipe in pipelines.items():\n",
        "    pipe.fit(X_train, y_train)\n",
        "    y_pred = pipe.predict(X_test)\n",
        "    reports[name] = classification_report(y_test, y_pred, output_dict=False)\n",
        "\n",
        "print('\\n\\n'.join([f'== {k} ==\\n{v}' for k,v in reports.items()]))\n"
      ]
    }
  ],
  "metadata": {
    "language_info": {
      "name": "python"
    }
  },
  "nbformat": 4,
  "nbformat_minor": 2
}
