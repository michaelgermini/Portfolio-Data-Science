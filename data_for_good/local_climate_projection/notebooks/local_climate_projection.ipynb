{
  "cells": [
    {
      "cell_type": "markdown",
      "metadata": {},
      "source": [
        "# Local climate evolution – 2050 projection\n",
        "Dataset: Copernicus/MeteoSwiss.\n",
        "\n",
        "Goal: project mean and extreme temperatures towards 2050.\n",
        "\n",
        "Ideas:\n",
        "- Bias correction from local time series\n",
        "- Scenarios (RCP/SSP) and uncertainties\n",
        "\n",
        "Prerequisites: provide `local_temp.csv` under `data_for_good/local_climate_projection/data/` with columns `date`, `tmean`.\n"
      ]
    }
  ],
  "metadata": {
    "language_info": {
      "name": "python"
    }
  },
  "nbformat": 4,
  "nbformat_minor": 2
}
