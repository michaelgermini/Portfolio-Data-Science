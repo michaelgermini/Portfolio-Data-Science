{
  "cells": [
    {
      "cell_type": "markdown",
      "metadata": {},
      "source": [
        "# Évolution du climat local – Projection 2050\n",
        "Dataset: Copernicus/MeteoSwiss.\n",
        "\n",
        "Objectif: projeter l'évolution des températures moyennes et des extrêmes à l'horizon 2050.\n",
        "\n",
        "Idées:\n",
        "- Recalage biais (bias correction) à partir de séries locales\n",
        "- Scénarios (RCP/SSP) et incertitudes\n",
        "\n",
        "Pré-requis: fournissez `local_temp.csv` dans `data_for_good/local_climate_projection/data/` avec colonnes `date`, `tmean`.\n"
      ]
    }
  ],
  "metadata": {
    "language_info": {
      "name": "python"
    }
  },
  "nbformat": 4,
  "nbformat_minor": 2
}
