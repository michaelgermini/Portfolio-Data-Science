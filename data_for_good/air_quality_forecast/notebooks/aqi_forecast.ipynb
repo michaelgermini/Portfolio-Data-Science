{
  "cells": [
    {
      "cell_type": "markdown",
      "metadata": {},
      "source": [
        "# Qualité de l'air – Prédiction AQI\n",
        "Données: Open Data météo + pollution (AQICN, stations locales).\n",
        "\n",
        "Objectif: prédire l'indice AQI d'une ville pour demain.\n",
        "\n",
        "Pistes:\n",
        "- Baseline ARIMA / Prophet / régression régulière\n",
        "- LSTM (optionnel, lourd)\n",
        "\n",
        "Pré-requis: placez un CSV `aqi_city.csv` dans `data_for_good/air_quality_forecast/data/` avec colonnes `date`, `aqi`, `temp`, `wind`, etc.\n"
      ]
    }
  ],
  "metadata": {
    "language_info": {
      "name": "python"
    }
  },
  "nbformat": 4,
  "nbformat_minor": 2
}
