{
  "cells": [
    {
      "cell_type": "markdown",
      "metadata": {},
      "source": [
        "# Air quality – AQI forecasting\n",
        "Data: Open weather + pollution (AQICN, local stations).\n",
        "\n",
        "Goal: predict next-day city AQI.\n",
        "\n",
        "Ideas:\n",
        "- Baselines: ARIMA / Prophet / regularized regression\n",
        "- LSTM (optional, heavy)\n",
        "\n",
        "Prerequisites: place `aqi_city.csv` under `data_for_good/air_quality_forecast/data/` with columns `date`, `aqi`, `temp`, `wind`, etc.\n"
      ]
    }
  ],
  "metadata": {
    "language_info": {
      "name": "python"
    }
  },
  "nbformat": 4,
  "nbformat_minor": 2
}
